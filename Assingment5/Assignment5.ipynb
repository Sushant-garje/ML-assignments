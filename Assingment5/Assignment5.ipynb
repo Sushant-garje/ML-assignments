{
 "cells": [
  {
   "metadata": {},
   "cell_type": "markdown",
   "source": "# Assingment 5",
   "id": "b60d6ff9e435f8f7"
  },
  {
   "metadata": {},
   "cell_type": "markdown",
   "source": [
    "Write a program to do following:\n",
    "Data Set: https://www.kaggle.com/shwetabh123/mall-customers\n",
    "This dataset givesthe data of Income and money spent by the customers visiting a shopping\n",
    "mall."
   ],
   "id": "c8afaaf658b127cc"
  },
  {
   "metadata": {},
   "cell_type": "markdown",
   "source": [
    "# Customer Segmentation using Clustering\n",
    "\n",
    "## Objective\n",
    "The dataset contains the following features:\n",
    "- **Customer ID**\n",
    "- **Gender**\n",
    "- **Age**\n",
    "- **Annual Income**\n",
    "- **Spending Score**\n",
    "\n",
    "As a mall owner, the goal is to identify groups of customers who are the most profitable based on their **Spending Score**.\n",
    "\n",
    "## Steps Involved\n",
    "\n",
    "### 1. Data Pre-processing\n",
    "- Handle missing values (if any)\n",
    "- Remove duplicates (if necessary)\n",
    "- Encode categorical variables\n",
    "\n",
    "### 2. Data Preparation (Train-Test Split)\n",
    "- Standardize or normalize data\n",
    "- Split data into training and testing sets\n",
    "\n",
    "### 3. Apply Machine Learning Algorithms\n",
    "- Implement at least two clustering algorithms (e.g., **K-Means** and **Hierarchical Clustering**)\n",
    "- Determine the optimal number of clusters using **Elbow Method** or **Silhouette Score**\n",
    "\n",
    "### 4. Evaluate Model\n",
    "- Visualize clusters\n",
    "- Analyze cluster characteristics\n",
    "\n",
    "### 5. Apply Cross-Validation and Evaluate Model\n",
    "- Perform **K-Fold Cross-Validation**\n",
    "- Compare clustering performance\n",
    "\n",
    "This approach will help in identifying the most profitable customer groups for targeted marketing and better business strategies."
   ],
   "id": "7e03e817263be73b"
  },
  {
   "metadata": {},
   "cell_type": "code",
   "outputs": [],
   "execution_count": null,
   "source": "",
   "id": "dd35347346d2e9e0"
  }
 ],
 "metadata": {
  "kernelspec": {
   "display_name": "Python 3",
   "language": "python",
   "name": "python3"
  },
  "language_info": {
   "codemirror_mode": {
    "name": "ipython",
    "version": 2
   },
   "file_extension": ".py",
   "mimetype": "text/x-python",
   "name": "python",
   "nbconvert_exporter": "python",
   "pygments_lexer": "ipython2",
   "version": "2.7.6"
  }
 },
 "nbformat": 4,
 "nbformat_minor": 5
}
